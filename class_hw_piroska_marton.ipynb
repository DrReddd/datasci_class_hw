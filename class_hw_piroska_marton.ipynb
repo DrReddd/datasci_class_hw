{
 "cells": [
  {
   "cell_type": "code",
   "execution_count": 95,
   "id": "lesbian-germany",
   "metadata": {},
   "outputs": [],
   "source": [
    "import numpy as np\n",
    "import seaborn as sns\n",
    "\n",
    "class Experiment:\n",
    "    \"\"\"\n",
    "    Experiment class for homework\n",
    "    \n",
    "    Parameters\n",
    "    ----------\n",
    "    data : numpy array\n",
    "        Data used in the experiment (2d array: observations * features)\n",
    "    exp_date : string\n",
    "        Date of experiment\n",
    "    exp_folder_path: string\n",
    "        Experiment folder path\n",
    "        \n",
    "    \"\"\"\n",
    "    \n",
    "    def __init__(self, data: np.ndarray, exp_date: str, exp_folder_path: str):\n",
    "        self.data = data\n",
    "        assert self.data.ndim == 2\n",
    "        self.exp_date = exp_date\n",
    "        self.exp_folder_path = exp_folder_path\n",
    "        \n",
    "    def __repr__(self) -> str:\n",
    "        return repr(self.data)\n",
    "        \n",
    "    def __len__(self) -> int:\n",
    "        \"\"\"\n",
    "        Returns\n",
    "        -------\n",
    "        int:\n",
    "            The number of variables.\n",
    "        \"\"\"\n",
    "        return self.data.shape[1]\n",
    "        \n",
    "    def sum(self) -> float:\n",
    "        \"\"\"\n",
    "        Returns\n",
    "        -------\n",
    "        float:\n",
    "            Sum of all numbers in data.\n",
    "        \"\"\"\n",
    "        return np.sum(self.data)\n",
    "    \n",
    "    def scatterplot(self, column_1: int, column_2: int):\n",
    "        \"\"\"\n",
    "        Plots a scatterplot of two columns.\n",
    "        \n",
    "        Parameters\n",
    "        ----------\n",
    "        column1: integer\n",
    "            index of the column plotted on x-axis\n",
    "        column2: integer\n",
    "            index of the column plotted on y-axis            \n",
    "        \"\"\"\n",
    "        sns.scatterplot(self.data[:, column_1], self.data[:, column_2])\n",
    "        plt.show()\n",
    "    \n",
    "    def save(self):\n",
    "        \"\"\"\n",
    "        Saves file.\n",
    "        \"\"\"\n",
    "        np.savetxt(self.exp_folder_path + \"/\" + self.exp_date + \".csv\", self.data, \n",
    "                  delimiter = \",\")\n",
    "       "
   ]
  },
  {
   "cell_type": "code",
   "execution_count": 96,
   "id": "viral-symbol",
   "metadata": {},
   "outputs": [
    {
     "data": {
      "text/plain": [
       "19341.161722064302"
      ]
     },
     "execution_count": 96,
     "metadata": {},
     "output_type": "execute_result"
    }
   ],
   "source": [
    "exp1 = Experiment(np.random.uniform(0, 100, (100, 4)), \"2021-05-05\", \"experiment\")\n",
    "exp2 = Experiment(np.random.uniform(0, 500, (100, 5)), \"2021-05-05\", \"experiment\")\n",
    "\n",
    "exp1.sum()\n"
   ]
  },
  {
   "cell_type": "code",
   "execution_count": 97,
   "id": "pregnant-mystery",
   "metadata": {},
   "outputs": [],
   "source": [
    "exp1.save()"
   ]
  },
  {
   "cell_type": "code",
   "execution_count": 98,
   "id": "supposed-naples",
   "metadata": {},
   "outputs": [
    {
     "name": "stderr",
     "output_type": "stream",
     "text": [
      "C:\\Users\\pmarc\\Anaconda3\\envs\\AI2\\lib\\site-packages\\seaborn\\_decorators.py:43: FutureWarning: Pass the following variables as keyword args: x, y. From version 0.12, the only valid positional argument will be `data`, and passing other arguments without an explicit keyword will result in an error or misinterpretation.\n",
      "  FutureWarning\n"
     ]
    },
    {
     "data": {
      "image/png": "[encoded data removed]",
      "text/plain": [
       "<Figure size 432x288 with 1 Axes>"
      ]
     },
     "metadata": {
      "needs_background": "light"
     },
     "output_type": "display_data"
    }
   ],
   "source": [
    "exp2.scatterplot(1, 2)"
   ]
  },
  {
   "cell_type": "code",
   "execution_count": null,
   "id": "alert-popularity",
   "metadata": {},
   "outputs": [],
   "source": []
  }
 ],
 "metadata": {
  "kernelspec": {
   "display_name": "Python 3",
   "language": "python",
   "name": "python3"
  },
  "language_info": {
   "codemirror_mode": {
    "name": "ipython",
    "version": 3
   },
   "file_extension": ".py",
   "mimetype": "text/x-python",
   "name": "python",
   "nbconvert_exporter": "python",
   "pygments_lexer": "ipython3",
   "version": "3.7.9"
  }
 },
 "nbformat": 4,
 "nbformat_minor": 5
}
